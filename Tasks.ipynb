{
 "cells": [
  {
   "cell_type": "markdown",
   "id": "e329c888",
   "metadata": {},
   "source": [
    "# TASKS\n",
    "**Author: Daniel Mc Donagh**\n",
    "\n",
    "***"
   ]
  },
  {
   "cell_type": "markdown",
   "id": "f262e4b7",
   "metadata": {},
   "source": [
    "## Week 1: Questions 1 to 5"
   ]
  },
  {
   "cell_type": "markdown",
   "id": "12f4ed71",
   "metadata": {},
   "source": [
    "### Question 1 : Collatz\n",
    "\n",
    "Prove the Collatz conjecture for the first 10000 integers using python."
   ]
  },
  {
   "cell_type": "code",
   "execution_count": null,
   "id": "73ba7f38",
   "metadata": {},
   "outputs": [],
   "source": []
  },
  {
   "cell_type": "code",
   "execution_count": null,
   "id": "f6f024f6",
   "metadata": {},
   "outputs": [],
   "source": []
  },
  {
   "cell_type": "markdown",
   "id": "5291bbba",
   "metadata": {},
   "source": [
    "Collatz and Latex references\n",
    "[Reference Collatz](https://www.quantamagazine.org/why-mathematicians-still-cant-solve-the-collatz-conjecture-20200922/)\n",
    "[Reference Latex](https://ashki23.github.io/markdown-latex.html)"
   ]
  },
  {
   "cell_type": "markdown",
   "id": "43830d45",
   "metadata": {},
   "source": [
    "_This matematical problem is one of the simplest to explain and understand. It simply states that if you take any Natural number and perform one of two operations on it. \n",
    "\n",
    "If it is even divide it by 2 or if it is odd multiply it by 3 and add 1 to it.\n",
    "Then repeat with the new number created.\n",
    "If followed the conjecture is that you will eventually fall into a repeating pattern of 4 - 2 - 1 - 4 - 2 - 1 - 4 - 2 - 1 that goes on forever._\n",
    "\n",
    "\n",
    "The Natural number set is all integers greater than 0\n",
    "\n",
    "$$\\mathbb{N} = \\{ a \\in \\mathbb{Z} : a > 0 \\}$$\n"
   ]
  },
  {
   "cell_type": "markdown",
   "id": "c2097e2f",
   "metadata": {},
   "source": [
    "Collatz written as matematical formulae\n",
    "\n",
    "$$\n",
    "f(x)=\n",
    "\\begin{cases}\n",
    "n/2 & \\quad \\text{if n is even}\\\\ \n",
    "3n + 1 & \\quad \\text{if n is odd}\n",
    "\\end{cases}\n",
    "$$"
   ]
  },
  {
   "cell_type": "code",
   "execution_count": null,
   "id": "a2548007",
   "metadata": {},
   "outputs": [],
   "source": [
    "def collatz_sequence(n):                    \n",
    "    sequence = [n]\n",
    "    while n != 1:\n",
    "        if n % 2 == 0:\n",
    "            n = n // 2\n",
    "        else:\n",
    "            n = 3 * n + 1\n",
    "        sequence.append(n)\n",
    "    return sequence"
   ]
  },
  {
   "cell_type": "code",
   "execution_count": null,
   "id": "b245a97b",
   "metadata": {},
   "outputs": [],
   "source": [
    "def main():\n",
    "    for i in range(1, 10001):\n",
    "        sequence = collatz_sequence(i)\n",
    "        if sequence[-1] != 1:\n",
    "            print(f\"Collatz conjecture is not satisfied for n = {i}\")\n",
    "    print(\"Collatz conjecture is satisfied for the first 10,000 positive integers.\")"
   ]
  },
  {
   "cell_type": "code",
   "execution_count": null,
   "id": "3f1126ba",
   "metadata": {},
   "outputs": [],
   "source": [
    "if __name__ == \"__main__\":\n",
    "    main()"
   ]
  },
  {
   "cell_type": "markdown",
   "id": "487cf4c2",
   "metadata": {},
   "source": [
    "### Question 2 : Overview of Penguins Dataset"
   ]
  },
  {
   "cell_type": "markdown",
   "id": "2de11c83",
   "metadata": {},
   "source": [
    "\n",
    "**Explain the types of variables it contains, suggest how best to model them in Python and explain your rationale.**"
   ]
  },
  {
   "cell_type": "markdown",
   "id": "af6cbd12",
   "metadata": {},
   "source": [
    "[Reference](https://en.wikipedia.org/wiki/Iris_flower_data_set)\n",
    "[adjust image size in md](https://stackoverflow.com/questions/14675913/changing-image-size-in-markdown)"
   ]
  },
  {
   "cell_type": "markdown",
   "id": "b7166ab1",
   "metadata": {},
   "source": [
    "*The Palmer Penguins dataset is a widely used resource in the area of ecology and data science. Often used for educational purposes and statistical examinations, this dataset furnishes insights into diverse attributes of three penguin species dwelling in the Palmer Archipelago, near to the Antarctic Peninsula. The data was collected by Dr. Kristen Gorman at the Palmer Station in Antarctica.*\n",
    "\n",
    "![Palmer_Archipelago](img\\Palmer_Archipelago.png)\n",
    "\n"
   ]
  },
  {
   "cell_type": "markdown",
   "id": "70ddfcce",
   "metadata": {},
   "source": [
    "**Variables:**\n",
    "*The dataset comprises several variables, each providing valuable insights into the penguin populations. Here are the main types of variables included:*\n",
    "\n",
    "\n",
    "**Categorical Variables:**\n",
    "- **Species:** *Indicates the species of penguin. Three species are represented: Adelie, Chinstrap, and Gentoo.*\n",
    "- **Island:** *Specifies the island in the Palmer Archipelago where the penguins were observed. The three islands are named Biscoe Island, Dream Island and Torgersen Island.*\n",
    "- **Sex:** *Represents the gender of the penguin, with categories either Male or Female.*\n",
    "\n",
    "<p align=\"center\">\n",
    "  <img src=\"img\\Palmer_penguins_species.jpeg\" width=\"900\" height=\"500\">\n",
    " </p>\n",
    "  \n",
    "**Numeric Variables:**\n",
    "\n",
    "- **Bill Length (mm):** *The length of the upper mandible of the penguin's beak.*\n",
    "- **Bill Depth (mm):** *The depth of the upper mandible of the penguin's beak.*\n",
    "- **Flipper Length (mm):** *The length of the penguin's flipper.*\n",
    "- **Body Mass (g):** *The mass of the penguin's body.*\n"
   ]
  },
  {
   "cell_type": "markdown",
   "id": "d5674cd6",
   "metadata": {},
   "source": [
    "\n",
    "*For Python-based analysis and modeling, common libraries such as Pandas and NumPy are commonly used.*\n",
    "\n",
    "- **Pandas DataFrames:** *Efficient for managing mixed data types and conducting exploratory data analysis. Best suited to categorical data types.*\n",
    "- **NumPy Arrays:** *Useful for numerical operations and calculations, providing compatibility with machine learning libraries. Best suited to numerical data types*"
   ]
  },
  {
   "cell_type": "markdown",
   "id": "72a955af",
   "metadata": {},
   "source": [
    "### Question 3 : Appropriate Probability Distribution"
   ]
  },
  {
   "cell_type": "markdown",
   "id": "6ecd3e7d",
   "metadata": {},
   "source": [
    "**What is the most appropriate probability distribution to use from the numpy random distributions list to model the variables in the penguins data set.**"
   ]
  },
  {
   "cell_type": "markdown",
   "id": "c236c075",
   "metadata": {},
   "source": [
    "_There are two types of variables that all variables in the penguins data set fit into Categorical and Numeric. For a categorical variable such as those for species or island of origin, with a distinct choice the **numpy.random.choice** distirbution is the most appropriate proabaility distribution to use. The other type of variable found in the penguins data set is a continous variable for the variables of the measurements of the penguins bill, flipper and body mass. Presuming these measurements follow a normal distribution around a central mean then a **numpy.random.normal** distribution is the most appropriate probablity distribution to use._"
   ]
  },
  {
   "cell_type": "markdown",
   "id": "fa66747c",
   "metadata": {},
   "source": [
    "### Question 4 : Entropy "
   ]
  },
  {
   "cell_type": "markdown",
   "id": "10dfa483",
   "metadata": {},
   "source": [
    "**Plot the entropy of the total number of heads versus *p*. When you are flipping two coins each with a probability *p* of giving heads.**\n",
    "\n",
    "\n",
    "\n",
    "References have been taken from wikipedia and lecture notes on entropy\n",
    "https://en.wikipedia.org/wiki/Entropy_(information_theory)"
   ]
  },
  {
   "cell_type": "markdown",
   "id": "e645a8d8",
   "metadata": {},
   "source": [
    "Entropy in information theory can be defined as the average level of information or uncertainity inherent in a random variables possible outcomes. It can be calculated using the formula below.\n",
    "\n",
    "$ H(X) := - \\sum_{x \\in X} p(x) \\log p(x) $\n",
    "\n",
    "Simplfing this formulae\n",
    "Where base 2 is chosen for the log. Probability is p and 1-p can be set for the value of x\n",
    "\n",
    "$ H(X) = -p(0) \\log p(0) - p(1) \\log p(1) $\n",
    "\n",
    "$ H(X) = -(1 - p(1)) \\log (1 - p(1)) - p(1) \\log p(1) $\n",
    "\n",
    "Let $p = p(1)$.\n",
    "\n",
    "$ H(p) = -(1 - p) \\log (1 - p) - p \\log p $\n",
    "\n",
    "\n",
    "\n",
    "\n"
   ]
  },
  {
   "cell_type": "code",
   "execution_count": 1,
   "id": "21b2cbd1",
   "metadata": {},
   "outputs": [],
   "source": [
    "import numpy as np\n",
    "\n",
    "import matplotlib.pyplot as plt"
   ]
  },
  {
   "cell_type": "code",
   "execution_count": 2,
   "id": "07ad0d4e",
   "metadata": {},
   "outputs": [],
   "source": [
    "# Entropy function H defined in python code with probability p\n",
    "def H(p):\n",
    "  return -(1 - p) * np.log2(1.0 - p) - p * np.log2(p)"
   ]
  },
  {
   "cell_type": "code",
   "execution_count": 3,
   "id": "f0349a92",
   "metadata": {},
   "outputs": [
    {
     "data": {
      "text/plain": [
       "1.0"
      ]
     },
     "execution_count": 3,
     "metadata": {},
     "output_type": "execute_result"
    }
   ],
   "source": [
    "# Entropy of 0.5.\n",
    "H(0.5)"
   ]
  },
  {
   "cell_type": "code",
   "execution_count": 5,
   "id": "5a998f2c",
   "metadata": {},
   "outputs": [
    {
     "data": {
      "image/png": "[encoded data removed]",
      "text/plain": [
       "<Figure size 1200x600 with 1 Axes>"
      ]
     },
     "metadata": {},
     "output_type": "display_data"
    }
   ],
   "source": [
    "# Create an empty plot.\n",
    "fig, ax = plt.subplots(figsize=(12,6))\n",
    "\n",
    "# p is a probability inbetween 0 and 1\n",
    "p = np.linspace(0.00000001, 0.99999999, 10001)\n",
    "\n",
    "# Add labels\n",
    "ax.set_xlabel('Pr(X = 1)')\n",
    "ax.set_ylabel('Η(X)')\n",
    "\n",
    "ax.set_title('Entropy Vs Proability of Heads')\n",
    "\n",
    "# Plot H(p).\n",
    "ax.plot(p, H(p));"
   ]
  },
  {
   "cell_type": "markdown",
   "metadata": {},
   "source": [
    "The fig above graphs the Entropy H (x) (i.e. the level of information or uncertaintity) of the coin flip versus the bias of the coin Pr(X=1), heads is represented by x = 1."
   ]
  },
  {
   "cell_type": "markdown",
   "id": "70f52532",
   "metadata": {},
   "source": [
    "### Question 5 : Individual Plots\n",
    "\n",
    "**Create an apropriate individual plot for each of the variabls in the penguin data set.**\n",
    "\n",
    "_There were two types of variables in the penguins data set categorical and numerical. For categorical data in the columns Species, Island and sex. I used a pie chart to display a total count by percentage of each categorical variable compared against the count percentage of the other categorical variables in the column._\n",
    "\n",
    "\n",
    "_For the numerical variables in the columns bill length, bill depth, flipper length and body mass. I felt the data was best protrayed as a bell shaped curve.\n",
    "With a overlayed on a histogram. This visually showed the mean whilst also showing how spikes in the data are still occuring likly due to variations in species or sex. But as this \n",
    "was only looking at one variable at a time it was enough to show they existed but not why._\n",
    "\n"
   ]
  },
  {
   "cell_type": "markdown",
   "id": "7e720252",
   "metadata": {},
   "source": []
  },
  {
   "cell_type": "code",
   "execution_count": null,
   "id": "fc7eafec",
   "metadata": {},
   "outputs": [],
   "source": [
    "import pandas as pd\n",
    "import matplotlib.pyplot as plt\n",
    "\n",
    "\n",
    "df = pd.read_csv('penguins.csv')               # Reads in csv as dataframe df\n",
    "\n",
    "\n",
    "selected_column = 'island'                    # sets column island as selected_clumn\n",
    "\n",
    "name_counts = df[selected_column].value_counts()  #counts instances of selected name in the column\n",
    "\n",
    "\n",
    "plt.figure(figsize=(6, 9))\n",
    "plt.pie(name_counts, labels=name_counts.index, autopct='%1.1f%%', startangle=90)\n",
    "plt.legend(title = \"Island of Origin:\")\n",
    "plt.title(f'Distribution of {selected_column} of origin')\n",
    "plt.show()"
   ]
  },
  {
   "cell_type": "code",
   "execution_count": null,
   "id": "1972754d",
   "metadata": {},
   "outputs": [],
   "source": [
    "import pandas as pd\n",
    "import matplotlib.pyplot as plt\n",
    "\n",
    "\n",
    "df = pd.read_csv('penguins.csv')               # Reads in csv as dataframe df\n",
    "\n",
    "\n",
    "selected_column = 'sex'                    # sets column sex as selected_clumn\n",
    "\n",
    "name_counts = df[selected_column].value_counts()  #counts instances of selected name in the column\n",
    "\n",
    "\n",
    "plt.figure(figsize=(6, 9))\n",
    "plt.pie(name_counts, labels=name_counts.index, colors=['b','r'], autopct='%1.1f%%', startangle=90)\n",
    "plt.legend(title = \"Sex:\")\n",
    "plt.title(f'Distribution of {selected_column} of penguins')\n",
    "plt.show()"
   ]
  },
  {
   "cell_type": "code",
   "execution_count": null,
   "id": "1cf065d8",
   "metadata": {},
   "outputs": [],
   "source": [
    "import pandas as pd\n",
    "import matplotlib.pyplot as plt\n",
    "from scipy.stats import norm\n",
    "\n",
    "df = pd.read_csv('penguins.csv')               # Reads in csv as dataframe df\n",
    "\n",
    "\n",
    "selected_column = 'bill_length_mm'                    # sets column bill length as selected_clumn\n",
    "\n",
    "data = df[selected_column]\n",
    "\n",
    "x = df[\"bill_length_mm\"].mean()                   #sets x to mean of column\n",
    "\n",
    "df[\"bill_length_mm\"].fillna(x, inplace = True)    # replaces all null values with mean\n",
    "\n",
    "\n",
    "plt.figure(figsize=(8, 6))\n",
    "plt.hist(data, bins=30, density=True, alpha=0.7, color='blue')\n",
    "\n",
    "# Fit a normal distribution to the data\n",
    "mu, std = norm.fit(data)\n",
    "xmin, xmax = plt.xlim()\n",
    "x = np.linspace(xmin, xmax, 100)\n",
    "p = norm.pdf(x, mu, std)\n",
    "plt.plot(x, p, 'k', linewidth=2)\n",
    "\n",
    "# Add labels and title\n",
    "plt.title(f'Normal Distribution of {selected_column}')\n",
    "plt.xlabel(selected_column)\n",
    "plt.ylabel('Frequency')\n",
    "\n",
    "# Show the plot\n",
    "plt.show()"
   ]
  },
  {
   "cell_type": "code",
   "execution_count": null,
   "id": "4dd8c519",
   "metadata": {},
   "outputs": [],
   "source": [
    "import pandas as pd\n",
    "import matplotlib.pyplot as plt\n",
    "from scipy.stats import norm\n",
    "\n",
    "df = pd.read_csv('penguins.csv')               # Reads in csv as dataframe df\n",
    "\n",
    "\n",
    "selected_column = 'bill_depth_mm'                    # sets column bill depth as selected_clumn\n",
    "\n",
    "data = df[selected_column]\n",
    "\n",
    "x = df[\"bill_depth_mm\"].mean()                   #sets x to mean of column\n",
    "\n",
    "df[\"bill_depth_mm\"].fillna(x, inplace = True)    # replaces all null values with mean\n",
    "\n",
    "\n",
    "plt.figure(figsize=(10, 6))                      # Plot the data in a normal distribution bell curve\n",
    "plt.hist(data, bins=30, density=True, alpha=0.7, color='r')\n",
    "\n",
    "# Fit a normal distribution to the data\n",
    "mu, std = norm.fit(data)\n",
    "xmin, xmax = plt.xlim()\n",
    "x = np.linspace(xmin, xmax, 100)\n",
    "p = norm.pdf(x, mu, std)\n",
    "plt.plot(x, p, 'k', linewidth=3)\n",
    "\n",
    "# Add labels and title\n",
    "plt.title(f'Normal Distribution of {selected_column}')\n",
    "plt.xlabel(selected_column)\n",
    "plt.ylabel('Frequency')\n",
    "\n",
    "# Show the plot\n",
    "plt.show()"
   ]
  },
  {
   "cell_type": "code",
   "execution_count": null,
   "id": "ce9c0dd6",
   "metadata": {},
   "outputs": [],
   "source": [
    "import pandas as pd\n",
    "import matplotlib.pyplot as plt\n",
    "from scipy.stats import norm\n",
    "\n",
    "df = pd.read_csv('penguins.csv')               # Reads in csv as dataframe df\n",
    "\n",
    "\n",
    "selected_column = 'flipper_length_mm'                    # sets column flipper length as selected_clumn\n",
    "\n",
    "data = df[selected_column]\n",
    "\n",
    "x = df[\"flipper_length_mm\"].mean()                   #sets x to mean of column\n",
    "\n",
    "df[\"flipper_length_mm\"].fillna(x, inplace = True)    # replaces all null values with mean\n",
    "\n",
    "# Plot the data in a normal distribution bell curve\n",
    "plt.figure(figsize=(8, 6))\n",
    "plt.hist(data, bins=40, density=True, alpha=0.7, color='g')\n",
    "\n",
    "# Fit a normal distribution to the data\n",
    "mu, std = norm.fit(data)\n",
    "xmin, xmax = plt.xlim()\n",
    "x = np.linspace(xmin, xmax, 100)\n",
    "p = norm.pdf(x, mu, std)\n",
    "plt.plot(x, p, 'k', linewidth=3)\n",
    "\n",
    "# Add labels and title\n",
    "plt.title(f'Normal Distribution of {selected_column}')\n",
    "plt.xlabel(selected_column)\n",
    "plt.ylabel('Frequency')\n",
    "\n",
    "# Show the plot\n",
    "plt.show()"
   ]
  },
  {
   "cell_type": "code",
   "execution_count": null,
   "id": "50b21a46",
   "metadata": {},
   "outputs": [],
   "source": [
    "import pandas as pd\n",
    "import matplotlib.pyplot as plt\n",
    "from scipy.stats import norm\n",
    "\n",
    "df = pd.read_csv('penguins.csv')               # Reads in csv as dataframe df\n",
    "\n",
    "\n",
    "selected_column = 'body_mass_g'                    # sets column body mass as selected_column\n",
    "\n",
    "data = df[selected_column]\n",
    "\n",
    "x = df[\"body_mass_g\"].mean()                   #sets x to mean of column\n",
    "\n",
    "df[\"body_mass_g\"].fillna(x, inplace = True)    # replaces all null values with mean\n",
    "\n",
    "# Plot the data in a normal distribution bell curve\n",
    "plt.figure(figsize=(8, 6))\n",
    "plt.hist(data, bins=20, density=True, alpha=0.7, color='hotpink')\n",
    "\n",
    "# Fit a normal distribution to the data\n",
    "mu, std = norm.fit(data)\n",
    "xmin, xmax = plt.xlim()\n",
    "x = np.linspace(xmin, xmax, 100)\n",
    "p = norm.pdf(x, mu, std)\n",
    "plt.plot(x, p, 'b', linewidth=3)\n",
    "\n",
    "# Add labels and title\n",
    "plt.title(f'Normal Distribution of Body Mass in grams')\n",
    "plt.xlabel(selected_column)\n",
    "plt.ylabel('Frequency')\n",
    "\n",
    "# Show the plot\n",
    "plt.show()"
   ]
  },
  {
   "cell_type": "code",
   "execution_count": null,
   "id": "e77d5132",
   "metadata": {},
   "outputs": [],
   "source": []
  }
 ],
 "metadata": {
  "kernelspec": {
   "display_name": "Python 3 (ipykernel)",
   "language": "python",
   "name": "python3"
  },
  "language_info": {
   "codemirror_mode": {
    "name": "ipython",
    "version": 3
   },
   "file_extension": ".py",
   "mimetype": "text/x-python",
   "name": "python",
   "nbconvert_exporter": "python",
   "pygments_lexer": "ipython3",
   "version": "3.9.13"
  }
 },
 "nbformat": 4,
 "nbformat_minor": 5
}
