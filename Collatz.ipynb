{
  "cells": [
    {
      "cell_type": "code",
      "execution_count": null,
      "metadata": {},
      "outputs": [],
      "source": []
    },
    {
      "cell_type": "markdown",
      "metadata": {},
      "source": []
    },
    {
      "cell_type": "code",
      "execution_count": 1,
      "metadata": {
        "trusted": true
      },
      "outputs": [],
      "source": [
        "def collatz_sequence(n):\n",
        "    sequence = [n]\n",
        "    while n != 1:\n",
        "        if n % 2 == 0:\n",
        "            n = n // 2\n",
        "        else:\n",
        "            n = 3 * n + 1\n",
        "        sequence.append(n)\n",
        "    return sequence"
      ]
    },
    {
      "cell_type": "code",
      "execution_count": 2,
      "metadata": {
        "trusted": true
      },
      "outputs": [],
      "source": [
        "def main():\n",
        "    for i in range(1, 10001):\n",
        "        sequence = collatz_sequence(i)\n",
        "        if sequence[-1] != 1:\n",
        "            print(f\"Collatz conjecture is not satisfied for n = {i}\")\n",
        "    print(\"Collatz conjecture is satisfied for the first 10,000 positive integers.\")"
      ]
    },
    {
      "cell_type": "code",
      "execution_count": 3,
      "metadata": {
        "trusted": true
      },
      "outputs": [
        {
          "name": "stdout",
          "output_type": "stream",
          "text": [
            "Collatz conjecture is satisfied for the first 10,000 positive integers.\n"
          ]
        }
      ],
      "source": [
        "if __name__ == \"__main__\":\n",
        "    main()"
      ]
    }
  ],
  "metadata": {
    "kernelspec": {
      "display_name": "Python (Pyodide)",
      "language": "python",
      "name": "python"
    },
    "language_info": {
      "codemirror_mode": {
        "name": "python",
        "version": 3
      },
      "file_extension": ".py",
      "mimetype": "text/x-python",
      "name": "python",
      "nbconvert_exporter": "python",
      "pygments_lexer": "ipython3",
      "version": "3.8"
    }
  },
  "nbformat": 4,
  "nbformat_minor": 4
}
