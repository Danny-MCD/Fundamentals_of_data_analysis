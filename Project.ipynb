{
 "cells": [
  {
   "cell_type": "markdown",
   "metadata": {},
   "source": [
    "### Data Analysis project investigating the Iris dataset\n",
    "\n",
    "Author: Daniel Mc Donagh"
   ]
  },
  {
   "cell_type": "markdown",
   "metadata": {},
   "source": [
    "#  **Iris Data Set**\n",
    "## **An investigation of its variables and data points**"
   ]
  },
  {
   "cell_type": "markdown",
   "metadata": {},
   "source": [
    "***\n",
    "#### **Author:** &nbsp;&nbsp;&nbsp;&nbsp;&nbsp;&nbsp;&nbsp;&nbsp;&nbsp;&nbsp;Daniel Mc Donagh\n",
    "#### **Student No:**&nbsp;&nbsp;&nbsp;&nbsp;G00410864\n",
    "#### **Module:** &nbsp;&nbsp;&nbsp;&nbsp;&nbsp;&nbsp;&nbsp;&nbsp;&nbsp;Fundamentals in Data Analysis\n",
    "***"
   ]
  },
  {
   "cell_type": "code",
   "execution_count": null,
   "metadata": {},
   "outputs": [],
   "source": []
  },
  {
   "cell_type": "markdown",
   "metadata": {},
   "source": [
    "### **Background of Iris flower data set**"
   ]
  },
  {
   "cell_type": "markdown",
   "metadata": {},
   "source": [
    "The Iris flower data set is one of the most widely used and famous data sets in the field of statistics and machine learning. It was first introduced by the British Biologist and statistician Ronald A. Fisher in his article published in 1936 [\"The use of multiple measurements in taxonomic problems\"](https://onlinelibrary.wiley.com/doi/10.1111/j.1469-1809.1936.tb02137.x)It has been used widly for educational purposes in the areas of classification, clustering and pattern recognition tasks."
   ]
  },
  {
   "cell_type": "markdown",
   "metadata": {},
   "source": [
    "##### **Origin**"
   ]
  },
  {
   "cell_type": "markdown",
   "metadata": {},
   "source": [
    "The dataset was originally collected by Edgar Shannon Anderson an american botanist during the early 1930's. The data was collected on the Gaspe Peninsula in Quebec, Canada. He collected measurements on three different species of Iris flowers: \n",
    "- Iris Setosa\n",
    "- Iris Virginica\n",
    "- Iris Versicolor\n",
    "\n",
    "![Species of Iris in Dataset](img\\irises.png)\n"
   ]
  },
  {
   "cell_type": "markdown",
   "metadata": {},
   "source": [
    "Fisher used the dataset to discriminate between the three types of iris flowers based on their features such as petal and sepal lenght and width. This statistical technique can be used to distinguish between the three flowers."
   ]
  },
  {
   "cell_type": "markdown",
   "metadata": {},
   "source": [
    "##### **Source**"
   ]
  },
  {
   "cell_type": "markdown",
   "metadata": {},
   "source": [
    "The dataset is publicly available to download at [**UC Irvine** Machine Learning Repository](https://archive.ics.uci.edu/dataset/53/iris). The downloaded zip file contains the data in CSV format (comma seperated values). It can be viewed by opening the iris.data file in software such as notepad. Additionally included in the zip folder is a names.data file which provide us with usefull inforamtion about the dataset as well as the atribute names for each of the comma seperated columns.\n",
    "\n",
    "![CSV format file of Iris dataset shown in Notepad](img\\csv+attributes.png)\n",
    "\n",
    "However this format needs to be imported into Python as a table with headings to make it more readable and functional."
   ]
  },
  {
   "cell_type": "code",
   "execution_count": null,
   "metadata": {},
   "outputs": [],
   "source": [
    "# Imports the pandas library into python \n",
    "import pandas as pd"
   ]
  },
  {
   "cell_type": "code",
   "execution_count": 7,
   "metadata": {},
   "outputs": [
    {
     "data": {
      "text/html": [
       "<div>\n",
       "<style scoped>\n",
       "    .dataframe tbody tr th:only-of-type {\n",
       "        vertical-align: middle;\n",
       "    }\n",
       "\n",
       "    .dataframe tbody tr th {\n",
       "        vertical-align: top;\n",
       "    }\n",
       "\n",
       "    .dataframe thead th {\n",
       "        text-align: right;\n",
       "    }\n",
       "</style>\n",
       "<table border=\"1\" class=\"dataframe\">\n",
       "  <thead>\n",
       "    <tr style=\"text-align: right;\">\n",
       "      <th></th>\n",
       "      <th>sepal_length</th>\n",
       "      <th>sepal_width</th>\n",
       "      <th>petal_length</th>\n",
       "      <th>petal_width</th>\n",
       "      <th>class</th>\n",
       "    </tr>\n",
       "  </thead>\n",
       "  <tbody>\n",
       "    <tr>\n",
       "      <th>0</th>\n",
       "      <td>4.9</td>\n",
       "      <td>3.0</td>\n",
       "      <td>1.4</td>\n",
       "      <td>0.2</td>\n",
       "      <td>Iris-setosa</td>\n",
       "    </tr>\n",
       "    <tr>\n",
       "      <th>1</th>\n",
       "      <td>4.7</td>\n",
       "      <td>3.2</td>\n",
       "      <td>1.3</td>\n",
       "      <td>0.2</td>\n",
       "      <td>Iris-setosa</td>\n",
       "    </tr>\n",
       "    <tr>\n",
       "      <th>2</th>\n",
       "      <td>4.6</td>\n",
       "      <td>3.1</td>\n",
       "      <td>1.5</td>\n",
       "      <td>0.2</td>\n",
       "      <td>Iris-setosa</td>\n",
       "    </tr>\n",
       "    <tr>\n",
       "      <th>3</th>\n",
       "      <td>5.0</td>\n",
       "      <td>3.6</td>\n",
       "      <td>1.4</td>\n",
       "      <td>0.2</td>\n",
       "      <td>Iris-setosa</td>\n",
       "    </tr>\n",
       "    <tr>\n",
       "      <th>4</th>\n",
       "      <td>5.4</td>\n",
       "      <td>3.9</td>\n",
       "      <td>1.7</td>\n",
       "      <td>0.4</td>\n",
       "      <td>Iris-setosa</td>\n",
       "    </tr>\n",
       "    <tr>\n",
       "      <th>5</th>\n",
       "      <td>4.6</td>\n",
       "      <td>3.4</td>\n",
       "      <td>1.4</td>\n",
       "      <td>0.3</td>\n",
       "      <td>Iris-setosa</td>\n",
       "    </tr>\n",
       "    <tr>\n",
       "      <th>6</th>\n",
       "      <td>5.0</td>\n",
       "      <td>3.4</td>\n",
       "      <td>1.5</td>\n",
       "      <td>0.2</td>\n",
       "      <td>Iris-setosa</td>\n",
       "    </tr>\n",
       "  </tbody>\n",
       "</table>\n",
       "</div>"
      ],
      "text/plain": [
       "   sepal_length  sepal_width  petal_length  petal_width        class\n",
       "0           4.9          3.0           1.4          0.2  Iris-setosa\n",
       "1           4.7          3.2           1.3          0.2  Iris-setosa\n",
       "2           4.6          3.1           1.5          0.2  Iris-setosa\n",
       "3           5.0          3.6           1.4          0.2  Iris-setosa\n",
       "4           5.4          3.9           1.7          0.4  Iris-setosa\n",
       "5           4.6          3.4           1.4          0.3  Iris-setosa\n",
       "6           5.0          3.4           1.5          0.2  Iris-setosa"
      ]
     },
     "execution_count": 7,
     "metadata": {},
     "output_type": "execute_result"
    }
   ],
   "source": [
    "# Reads in the CSV file\n",
    "dataset = pd.read_csv('data\\iris.data')\n",
    "\n",
    "# adds the columns name\n",
    "dataset.columns = ['sepal_length','sepal_width','petal_length','petal_width','class']\n",
    "\n",
    "# displays the first n rows of the table\n",
    "dataset.head(n=7)"
   ]
  },
  {
   "cell_type": "markdown",
   "metadata": {},
   "source": [
    "##### **Structure**"
   ]
  },
  {
   "cell_type": "markdown",
   "metadata": {},
   "source": [
    "To understand the structure of the dataset "
   ]
  },
  {
   "cell_type": "code",
   "execution_count": null,
   "metadata": {},
   "outputs": [],
   "source": [
    "\n",
    "pd.set_option(\"display.precision\",2)                                        # rounds all table values to two decimal places\n",
    "\n",
    "\n",
    "\n",
    "\n",
    "print(irisdata.describe(), file = iris_summary)                             # The describe() function shows count, mean, standard deviation, minimum, median, interquartile ranges\n",
    "print (\"\\n\", file = iris_summary)                                           # adds a line break\n",
    "\n",
    "print(\"The statistical summary of the flower classes \", file = iris_summary)\n",
    "print(irisdata.describe(include=['object', 'bool']), file = iris_summary)   # Describe function used to show statistics for the class of flower\n",
    "print (\"\\n\", file = iris_summary)                                           # adds a line break\n",
    "\n",
    "print(\"The total number of records for each class\", file = iris_summary)\n",
    "print(irisdata['class'].value_counts(), file = iris_summary)                # Counts the number of records for each class \n",
    "print (\"\\n\", file = iris_summary)                                           # adds a line break\n",
    "\n",
    "print(\"Summary of each variable grouped by the flower class:\", file = iris_summary)\n",
    "print(irisdata.groupby(['class']).describe(), file = iris_summary)          # Summary of variables grouped by class\n",
    "\n",
    "\n",
    "\n",
    "\n",
    "font1 = {'family':'oswald','color':'darkred','size':16}                     # creation of font1 to be used in plots\n",
    "font2 = {'family':'oswald','color':'black','size':14}                       # creation of font2 to be used in plots\n",
    "\n",
    "\n",
    "iris_virginica = irisdata[irisdata[\"class\"] == \"Iris-virginica\"]            # data grouped by flower class for plotting\n",
    "iris_versicolor = irisdata[irisdata[\"class\"] == \"Iris-versicolor\"] \n",
    "iris_setosa = irisdata[irisdata[\"class\"] == \"Iris-setosa\"]  \n",
    "\n",
    "\n",
    "sns.set(style=\"darkgrid\")                                                   # this sets the background colour of the grid\n"
   ]
  },
  {
   "cell_type": "markdown",
   "metadata": {},
   "source": []
  },
  {
   "cell_type": "markdown",
   "metadata": {},
   "source": [
    "Data types in csv file\n",
    "How and where to download it"
   ]
  },
  {
   "cell_type": "markdown",
   "metadata": {},
   "source": [
    "[Iris Pictures Reference](https://en.wikipedia.org/wiki/Iris_flower_data_set)"
   ]
  },
  {
   "cell_type": "markdown",
   "metadata": {},
   "source": [
    "**Iris Species**\n",
    "\n",
    "![Iris Setosa](img\\iris_setosa.jpg)\n",
    "![Iris Versicolor](img\\iris_versicolor.jpg)\n",
    "![Iris virginica](img\\iris_virginica.jpg)"
   ]
  },
  {
   "cell_type": "markdown",
   "metadata": {},
   "source": []
  },
  {
   "cell_type": "markdown",
   "metadata": {},
   "source": [
    "$$ f(x) = \\frac{1}{sigma \\sqrt{2 \\pi}} e^{-\\frac{1}{2} \\big( \\frac{x - \\mu}{\\sigma} \\big)^2 $$"
   ]
  },
  {
   "cell_type": "markdown",
   "metadata": {},
   "source": [
    "\n",
    "$$ f(x) = \\frac{1}{\\sqrt{2 \\pi}} e^{-\\frac{1}{2}x^2} $$"
   ]
  },
  {
   "cell_type": "code",
   "execution_count": null,
   "metadata": {},
   "outputs": [],
   "source": []
  },
  {
   "cell_type": "code",
   "execution_count": null,
   "metadata": {},
   "outputs": [],
   "source": []
  },
  {
   "cell_type": "code",
   "execution_count": null,
   "metadata": {},
   "outputs": [
    {
     "ename": "",
     "evalue": "",
     "output_type": "error",
     "traceback": [
      "\u001b[1;31mFailed to start the Kernel. \n",
      "\u001b[1;31mUnable to start Kernel 'Anaconda3 (Python 3.11.5)' due to a timeout waiting for the ports to get used. \n",
      "\u001b[1;31mView Jupyter <a href='command:jupyter.viewOutput'>log</a> for further details."
     ]
    }
   ],
   "source": []
  },
  {
   "cell_type": "markdown",
   "metadata": {},
   "source": []
  },
  {
   "cell_type": "markdown",
   "metadata": {},
   "source": [
    "***\n",
    "\n",
    "**END**"
   ]
  }
 ],
 "metadata": {
  "kernelspec": {
   "display_name": "Python 3",
   "language": "python",
   "name": "python3"
  },
  "language_info": {
   "codemirror_mode": {
    "name": "ipython",
    "version": 3
   },
   "file_extension": ".py",
   "mimetype": "text/x-python",
   "name": "python",
   "nbconvert_exporter": "python",
   "pygments_lexer": "ipython3",
   "version": "3.11.5"
  }
 },
 "nbformat": 4,
 "nbformat_minor": 2
}
